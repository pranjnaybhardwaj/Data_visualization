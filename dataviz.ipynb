{
 "cells": [
  {
   "cell_type": "code",
   "execution_count": 1,
   "id": "c661ac6f",
   "metadata": {},
   "outputs": [],
   "source": [
    "import pandas as pd\n",
    "import numpy as np\n",
    "import datetime as dt\n",
    "from geopy.geocoders import Nominatim\n",
    "from geopy.point import Point\n",
    "import seaborn as sns\n",
    "import folium\n",
    "from folium.plugins import HeatMap\n",
    "import plotly.express as px\n",
    "import geopandas as gpd\n",
    "from shapely import wkt\n",
    "from sklearn.preprocessing import MinMaxScaler\n",
    "from shapely.geometry import Point, LineString, Polygon, MultiPoint\n",
    "import warnings\n",
    "import matplotlib.pyplot as plt\n",
    "%matplotlib inline\n",
    "\n",
    "plt.rcParams[\"figure.dpi\"] = 100\n",
    "plt.rcParams[\"figure.figsize\"] = (8, 8)\n",
    "\n",
    "\n",
    "warnings.simplefilter(\"ignore\")"
   ]
  },
  {
   "cell_type": "code",
   "execution_count": 2,
   "id": "b3249e00",
   "metadata": {},
   "outputs": [],
   "source": [
    "mdata_02 = pd.read_csv('C:/Users/pranj/Downloads/DCU/DCU_mobiles_01-04-2022_31-07-2022.csv', sep=';')"
   ]
  },
  {
   "cell_type": "code",
   "execution_count": 3,
   "id": "cf2737b4",
   "metadata": {},
   "outputs": [],
   "source": [
    "mdata_01 = pd.read_csv('C:/Users/pranj/Downloads/DCU/DCU_mobiles_01-10-2021_30-01-2022.csv', sep=';')"
   ]
  },
  {
   "cell_type": "code",
   "execution_count": 4,
   "id": "d7632aee",
   "metadata": {},
   "outputs": [],
   "source": [
    "fdata_01 = pd.read_csv(\"C:/Users/pranj/Downloads/DCU/DCU_fixed_01-04-2022_31-07-2022.csv\", sep=';')"
   ]
  },
  {
   "cell_type": "code",
   "execution_count": 5,
   "id": "3f8c890e",
   "metadata": {},
   "outputs": [],
   "source": [
    "fdata_02 = pd.read_csv(\"C:/Users/pranj/Downloads/DCU/DCU_fixed_01-10-2021_31-01-2022.csv\", sep=';')"
   ]
  },
  {
   "cell_type": "code",
   "execution_count": 6,
   "id": "b294ac6d",
   "metadata": {},
   "outputs": [
    {
     "name": "stdout",
     "output_type": "stream",
     "text": [
      "<class 'pandas.core.frame.DataFrame'>\n",
      "RangeIndex: 2929865 entries, 0 to 2929864\n",
      "Data columns (total 4 columns):\n",
      " #   Column        Dtype  \n",
      "---  ------        -----  \n",
      " 0   timestamp     int64  \n",
      " 1   sensor ID     int64  \n",
      " 2   pm2.5(ug/m3)  float64\n",
      " 3   pm10(ug/m3)   float64\n",
      "dtypes: float64(2), int64(2)\n",
      "memory usage: 89.4 MB\n"
     ]
    }
   ],
   "source": [
    "fdata_01.info()"
   ]
  },
  {
   "cell_type": "code",
   "execution_count": 7,
   "id": "4866f519",
   "metadata": {},
   "outputs": [
    {
     "name": "stdout",
     "output_type": "stream",
     "text": [
      "<class 'pandas.core.frame.DataFrame'>\n",
      "RangeIndex: 3493181 entries, 0 to 3493180\n",
      "Data columns (total 4 columns):\n",
      " #   Column        Dtype  \n",
      "---  ------        -----  \n",
      " 0   timestamp     int64  \n",
      " 1   sensor ID     int64  \n",
      " 2   pm2.5(ug/m3)  float64\n",
      " 3   pm10(ug/m3)   float64\n",
      "dtypes: float64(2), int64(2)\n",
      "memory usage: 106.6 MB\n"
     ]
    }
   ],
   "source": [
    "fdata_02.info()"
   ]
  },
  {
   "cell_type": "code",
   "execution_count": 8,
   "id": "880291cb",
   "metadata": {},
   "outputs": [
    {
     "name": "stdout",
     "output_type": "stream",
     "text": [
      "<class 'pandas.core.frame.DataFrame'>\n",
      "RangeIndex: 2790611 entries, 0 to 2790610\n",
      "Data columns (total 6 columns):\n",
      " #   Column        Dtype  \n",
      "---  ------        -----  \n",
      " 0   timestamp     int64  \n",
      " 1   sensor ID     int64  \n",
      " 2   pm2.5(ug/m3)  float64\n",
      " 3   pm10(ug/m3)   float64\n",
      " 4   latitude      float64\n",
      " 5   longitude     float64\n",
      "dtypes: float64(4), int64(2)\n",
      "memory usage: 127.7 MB\n"
     ]
    }
   ],
   "source": [
    "mdata_02.info()"
   ]
  },
  {
   "cell_type": "code",
   "execution_count": 9,
   "id": "ca1e1fff",
   "metadata": {},
   "outputs": [
    {
     "name": "stdout",
     "output_type": "stream",
     "text": [
      "<class 'pandas.core.frame.DataFrame'>\n",
      "RangeIndex: 5239198 entries, 0 to 5239197\n",
      "Data columns (total 6 columns):\n",
      " #   Column        Dtype  \n",
      "---  ------        -----  \n",
      " 0   timestamp     int64  \n",
      " 1   sensor ID     int64  \n",
      " 2   pm2.5(ug/m3)  float64\n",
      " 3   pm10(ug/m3)   float64\n",
      " 4   latitude      float64\n",
      " 5   longitude     float64\n",
      "dtypes: float64(4), int64(2)\n",
      "memory usage: 239.8 MB\n"
     ]
    }
   ],
   "source": [
    "mdata_01.info()"
   ]
  },
  {
   "cell_type": "code",
   "execution_count": 10,
   "id": "ca1be3cf",
   "metadata": {},
   "outputs": [],
   "source": [
    "mdata_df = pd.concat([mdata_01, mdata_02])"
   ]
  },
  {
   "cell_type": "code",
   "execution_count": 11,
   "id": "530785be",
   "metadata": {},
   "outputs": [],
   "source": [
    "fdata_df = pd.concat([fdata_01, fdata_02])"
   ]
  },
  {
   "cell_type": "code",
   "execution_count": 12,
   "id": "9126a601",
   "metadata": {},
   "outputs": [
    {
     "name": "stdout",
     "output_type": "stream",
     "text": [
      "<class 'pandas.core.frame.DataFrame'>\n",
      "Index: 6423046 entries, 0 to 3493180\n",
      "Data columns (total 4 columns):\n",
      " #   Column        Dtype  \n",
      "---  ------        -----  \n",
      " 0   timestamp     int64  \n",
      " 1   sensor ID     int64  \n",
      " 2   pm2.5(ug/m3)  float64\n",
      " 3   pm10(ug/m3)   float64\n",
      "dtypes: float64(2), int64(2)\n",
      "memory usage: 245.0 MB\n"
     ]
    }
   ],
   "source": [
    "fdata_df.info()"
   ]
  },
  {
   "cell_type": "code",
   "execution_count": 13,
   "id": "47c768df",
   "metadata": {},
   "outputs": [
    {
     "name": "stdout",
     "output_type": "stream",
     "text": [
      "<class 'pandas.core.frame.DataFrame'>\n",
      "Index: 8029809 entries, 0 to 2790610\n",
      "Data columns (total 6 columns):\n",
      " #   Column        Dtype  \n",
      "---  ------        -----  \n",
      " 0   timestamp     int64  \n",
      " 1   sensor ID     int64  \n",
      " 2   pm2.5(ug/m3)  float64\n",
      " 3   pm10(ug/m3)   float64\n",
      " 4   latitude      float64\n",
      " 5   longitude     float64\n",
      "dtypes: float64(4), int64(2)\n",
      "memory usage: 428.8 MB\n"
     ]
    }
   ],
   "source": [
    "mdata_df.info()"
   ]
  },
  {
   "cell_type": "code",
   "execution_count": 13,
   "id": "81c8d2e4",
   "metadata": {},
   "outputs": [],
   "source": [
    "mdata_df['date_time'] = pd.to_datetime(mdata_df['timestamp'], unit='s')"
   ]
  },
  {
   "cell_type": "code",
   "execution_count": 28,
   "id": "b6d6bdb4",
   "metadata": {},
   "outputs": [],
   "source": [
    "fdata_df['date_time'] = pd.to_datetime(fdata_df['timestamp'], unit='s')"
   ]
  },
  {
   "cell_type": "code",
   "execution_count": 15,
   "id": "e8f4b3f4",
   "metadata": {},
   "outputs": [
    {
     "data": {
      "text/html": [
       "<div>\n",
       "<style scoped>\n",
       "    .dataframe tbody tr th:only-of-type {\n",
       "        vertical-align: middle;\n",
       "    }\n",
       "\n",
       "    .dataframe tbody tr th {\n",
       "        vertical-align: top;\n",
       "    }\n",
       "\n",
       "    .dataframe thead th {\n",
       "        text-align: right;\n",
       "    }\n",
       "</style>\n",
       "<table border=\"1\" class=\"dataframe\">\n",
       "  <thead>\n",
       "    <tr style=\"text-align: right;\">\n",
       "      <th></th>\n",
       "      <th>timestamp</th>\n",
       "      <th>sensor ID</th>\n",
       "      <th>pm2.5(ug/m3)</th>\n",
       "      <th>pm10(ug/m3)</th>\n",
       "      <th>date_time</th>\n",
       "    </tr>\n",
       "  </thead>\n",
       "  <tbody>\n",
       "    <tr>\n",
       "      <th>0</th>\n",
       "      <td>1648771251</td>\n",
       "      <td>869170034045121</td>\n",
       "      <td>5.40</td>\n",
       "      <td>7.18</td>\n",
       "      <td>2022-04-01 00:00:51</td>\n",
       "    </tr>\n",
       "    <tr>\n",
       "      <th>1</th>\n",
       "      <td>1648771253</td>\n",
       "      <td>869170033931073</td>\n",
       "      <td>4.50</td>\n",
       "      <td>6.57</td>\n",
       "      <td>2022-04-01 00:00:53</td>\n",
       "    </tr>\n",
       "    <tr>\n",
       "      <th>2</th>\n",
       "      <td>1648771256</td>\n",
       "      <td>869170034081928</td>\n",
       "      <td>7.05</td>\n",
       "      <td>9.35</td>\n",
       "      <td>2022-04-01 00:00:56</td>\n",
       "    </tr>\n",
       "    <tr>\n",
       "      <th>3</th>\n",
       "      <td>1648771261</td>\n",
       "      <td>869170033930547</td>\n",
       "      <td>4.95</td>\n",
       "      <td>5.40</td>\n",
       "      <td>2022-04-01 00:01:01</td>\n",
       "    </tr>\n",
       "    <tr>\n",
       "      <th>4</th>\n",
       "      <td>1648771271</td>\n",
       "      <td>869170034081928</td>\n",
       "      <td>6.90</td>\n",
       "      <td>8.09</td>\n",
       "      <td>2022-04-01 00:01:11</td>\n",
       "    </tr>\n",
       "  </tbody>\n",
       "</table>\n",
       "</div>"
      ],
      "text/plain": [
       "    timestamp        sensor ID  pm2.5(ug/m3)  pm10(ug/m3)           date_time\n",
       "0  1648771251  869170034045121          5.40         7.18 2022-04-01 00:00:51\n",
       "1  1648771253  869170033931073          4.50         6.57 2022-04-01 00:00:53\n",
       "2  1648771256  869170034081928          7.05         9.35 2022-04-01 00:00:56\n",
       "3  1648771261  869170033930547          4.95         5.40 2022-04-01 00:01:01\n",
       "4  1648771271  869170034081928          6.90         8.09 2022-04-01 00:01:11"
      ]
     },
     "execution_count": 15,
     "metadata": {},
     "output_type": "execute_result"
    }
   ],
   "source": [
    "fdata_df.head()"
   ]
  },
  {
   "cell_type": "code",
   "execution_count": 36,
   "id": "91a4fbee",
   "metadata": {},
   "outputs": [
    {
     "data": {
      "text/html": [
       "<div>\n",
       "<style scoped>\n",
       "    .dataframe tbody tr th:only-of-type {\n",
       "        vertical-align: middle;\n",
       "    }\n",
       "\n",
       "    .dataframe tbody tr th {\n",
       "        vertical-align: top;\n",
       "    }\n",
       "\n",
       "    .dataframe thead th {\n",
       "        text-align: right;\n",
       "    }\n",
       "</style>\n",
       "<table border=\"1\" class=\"dataframe\">\n",
       "  <thead>\n",
       "    <tr style=\"text-align: right;\">\n",
       "      <th></th>\n",
       "      <th>timestamp</th>\n",
       "      <th>sensor ID</th>\n",
       "      <th>pm2.5(ug/m3)</th>\n",
       "      <th>pm10(ug/m3)</th>\n",
       "      <th>latitude</th>\n",
       "      <th>longitude</th>\n",
       "      <th>date_time</th>\n",
       "    </tr>\n",
       "  </thead>\n",
       "  <tbody>\n",
       "    <tr>\n",
       "      <th>0</th>\n",
       "      <td>1633046403</td>\n",
       "      <td>869170034050501</td>\n",
       "      <td>1.33</td>\n",
       "      <td>1.33</td>\n",
       "      <td>53.320283</td>\n",
       "      <td>-6.363592</td>\n",
       "      <td>2021-10-01 00:00:03</td>\n",
       "    </tr>\n",
       "    <tr>\n",
       "      <th>1</th>\n",
       "      <td>1633046405</td>\n",
       "      <td>869170034040783</td>\n",
       "      <td>2.46</td>\n",
       "      <td>3.69</td>\n",
       "      <td>53.388120</td>\n",
       "      <td>-6.171005</td>\n",
       "      <td>2021-10-01 00:00:05</td>\n",
       "    </tr>\n",
       "    <tr>\n",
       "      <th>2</th>\n",
       "      <td>1633046407</td>\n",
       "      <td>869170034084252</td>\n",
       "      <td>1.42</td>\n",
       "      <td>1.42</td>\n",
       "      <td>53.320965</td>\n",
       "      <td>-6.361845</td>\n",
       "      <td>2021-10-01 00:00:07</td>\n",
       "    </tr>\n",
       "    <tr>\n",
       "      <th>3</th>\n",
       "      <td>1633046417</td>\n",
       "      <td>869170034040783</td>\n",
       "      <td>2.69</td>\n",
       "      <td>6.15</td>\n",
       "      <td>53.388120</td>\n",
       "      <td>-6.171005</td>\n",
       "      <td>2021-10-01 00:00:17</td>\n",
       "    </tr>\n",
       "    <tr>\n",
       "      <th>4</th>\n",
       "      <td>1633046418</td>\n",
       "      <td>869170034084252</td>\n",
       "      <td>1.75</td>\n",
       "      <td>1.75</td>\n",
       "      <td>53.320965</td>\n",
       "      <td>-6.361845</td>\n",
       "      <td>2021-10-01 00:00:18</td>\n",
       "    </tr>\n",
       "  </tbody>\n",
       "</table>\n",
       "</div>"
      ],
      "text/plain": [
       "    timestamp        sensor ID  pm2.5(ug/m3)  pm10(ug/m3)   latitude  \\\n",
       "0  1633046403  869170034050501          1.33         1.33  53.320283   \n",
       "1  1633046405  869170034040783          2.46         3.69  53.388120   \n",
       "2  1633046407  869170034084252          1.42         1.42  53.320965   \n",
       "3  1633046417  869170034040783          2.69         6.15  53.388120   \n",
       "4  1633046418  869170034084252          1.75         1.75  53.320965   \n",
       "\n",
       "   longitude           date_time  \n",
       "0  -6.363592 2021-10-01 00:00:03  \n",
       "1  -6.171005 2021-10-01 00:00:05  \n",
       "2  -6.361845 2021-10-01 00:00:07  \n",
       "3  -6.171005 2021-10-01 00:00:17  \n",
       "4  -6.361845 2021-10-01 00:00:18  "
      ]
     },
     "execution_count": 36,
     "metadata": {},
     "output_type": "execute_result"
    }
   ],
   "source": [
    "mdata_df.head()"
   ]
  },
  {
   "cell_type": "code",
   "execution_count": 16,
   "id": "bb692fa5",
   "metadata": {},
   "outputs": [],
   "source": [
    "mdata_df = mdata_df.sort_values(by=['date_time'])"
   ]
  },
  {
   "cell_type": "code",
   "execution_count": 29,
   "id": "12eca8cb",
   "metadata": {},
   "outputs": [],
   "source": [
    "fdata_df = fdata_df.sort_values(by=['date_time'])"
   ]
  },
  {
   "cell_type": "code",
   "execution_count": 18,
   "id": "5ee22924",
   "metadata": {},
   "outputs": [
    {
     "data": {
      "text/html": [
       "<div>\n",
       "<style scoped>\n",
       "    .dataframe tbody tr th:only-of-type {\n",
       "        vertical-align: middle;\n",
       "    }\n",
       "\n",
       "    .dataframe tbody tr th {\n",
       "        vertical-align: top;\n",
       "    }\n",
       "\n",
       "    .dataframe thead th {\n",
       "        text-align: right;\n",
       "    }\n",
       "</style>\n",
       "<table border=\"1\" class=\"dataframe\">\n",
       "  <thead>\n",
       "    <tr style=\"text-align: right;\">\n",
       "      <th></th>\n",
       "      <th>timestamp</th>\n",
       "      <th>sensor ID</th>\n",
       "      <th>pm2.5(ug/m3)</th>\n",
       "      <th>pm10(ug/m3)</th>\n",
       "      <th>date_time</th>\n",
       "    </tr>\n",
       "  </thead>\n",
       "  <tbody>\n",
       "    <tr>\n",
       "      <th>2929861</th>\n",
       "      <td>1659311982</td>\n",
       "      <td>869170034063280</td>\n",
       "      <td>4.13</td>\n",
       "      <td>5.03</td>\n",
       "      <td>2022-07-31 23:59:42</td>\n",
       "    </tr>\n",
       "    <tr>\n",
       "      <th>2929860</th>\n",
       "      <td>1659311982</td>\n",
       "      <td>869170033930620</td>\n",
       "      <td>3.50</td>\n",
       "      <td>3.83</td>\n",
       "      <td>2022-07-31 23:59:42</td>\n",
       "    </tr>\n",
       "    <tr>\n",
       "      <th>2929862</th>\n",
       "      <td>1659311984</td>\n",
       "      <td>869170034081928</td>\n",
       "      <td>5.44</td>\n",
       "      <td>5.95</td>\n",
       "      <td>2022-07-31 23:59:44</td>\n",
       "    </tr>\n",
       "    <tr>\n",
       "      <th>2929863</th>\n",
       "      <td>1659311986</td>\n",
       "      <td>869170033930471</td>\n",
       "      <td>2.28</td>\n",
       "      <td>2.58</td>\n",
       "      <td>2022-07-31 23:59:46</td>\n",
       "    </tr>\n",
       "    <tr>\n",
       "      <th>2929864</th>\n",
       "      <td>1659311988</td>\n",
       "      <td>869170033931073</td>\n",
       "      <td>3.70</td>\n",
       "      <td>4.57</td>\n",
       "      <td>2022-07-31 23:59:48</td>\n",
       "    </tr>\n",
       "  </tbody>\n",
       "</table>\n",
       "</div>"
      ],
      "text/plain": [
       "          timestamp        sensor ID  pm2.5(ug/m3)  pm10(ug/m3)  \\\n",
       "2929861  1659311982  869170034063280          4.13         5.03   \n",
       "2929860  1659311982  869170033930620          3.50         3.83   \n",
       "2929862  1659311984  869170034081928          5.44         5.95   \n",
       "2929863  1659311986  869170033930471          2.28         2.58   \n",
       "2929864  1659311988  869170033931073          3.70         4.57   \n",
       "\n",
       "                  date_time  \n",
       "2929861 2022-07-31 23:59:42  \n",
       "2929860 2022-07-31 23:59:42  \n",
       "2929862 2022-07-31 23:59:44  \n",
       "2929863 2022-07-31 23:59:46  \n",
       "2929864 2022-07-31 23:59:48  "
      ]
     },
     "execution_count": 18,
     "metadata": {},
     "output_type": "execute_result"
    }
   ],
   "source": [
    "fdata_df.tail()"
   ]
  },
  {
   "cell_type": "code",
   "execution_count": 24,
   "id": "e1d5a992",
   "metadata": {},
   "outputs": [
    {
     "data": {
      "text/html": [
       "<div>\n",
       "<style scoped>\n",
       "    .dataframe tbody tr th:only-of-type {\n",
       "        vertical-align: middle;\n",
       "    }\n",
       "\n",
       "    .dataframe tbody tr th {\n",
       "        vertical-align: top;\n",
       "    }\n",
       "\n",
       "    .dataframe thead th {\n",
       "        text-align: right;\n",
       "    }\n",
       "</style>\n",
       "<table border=\"1\" class=\"dataframe\">\n",
       "  <thead>\n",
       "    <tr style=\"text-align: right;\">\n",
       "      <th></th>\n",
       "      <th>timestamp</th>\n",
       "      <th>sensor ID</th>\n",
       "      <th>pm2.5(ug/m3)</th>\n",
       "      <th>pm10(ug/m3)</th>\n",
       "      <th>latitude</th>\n",
       "      <th>longitude</th>\n",
       "      <th>date_time</th>\n",
       "    </tr>\n",
       "  </thead>\n",
       "  <tbody>\n",
       "    <tr>\n",
       "      <th>2790606</th>\n",
       "      <td>1659311934</td>\n",
       "      <td>869170034050501</td>\n",
       "      <td>0.58</td>\n",
       "      <td>0.58</td>\n",
       "      <td>53.338073</td>\n",
       "      <td>-6.377980</td>\n",
       "      <td>2022-07-31 23:58:54</td>\n",
       "    </tr>\n",
       "    <tr>\n",
       "      <th>2790607</th>\n",
       "      <td>1659311946</td>\n",
       "      <td>869170034050501</td>\n",
       "      <td>0.58</td>\n",
       "      <td>0.58</td>\n",
       "      <td>53.338073</td>\n",
       "      <td>-6.377980</td>\n",
       "      <td>2022-07-31 23:59:06</td>\n",
       "    </tr>\n",
       "    <tr>\n",
       "      <th>2790608</th>\n",
       "      <td>1659311957</td>\n",
       "      <td>869170034050501</td>\n",
       "      <td>0.50</td>\n",
       "      <td>0.75</td>\n",
       "      <td>53.338073</td>\n",
       "      <td>-6.377980</td>\n",
       "      <td>2022-07-31 23:59:17</td>\n",
       "    </tr>\n",
       "    <tr>\n",
       "      <th>2790609</th>\n",
       "      <td>1659311987</td>\n",
       "      <td>869170034050501</td>\n",
       "      <td>2.33</td>\n",
       "      <td>2.33</td>\n",
       "      <td>53.338073</td>\n",
       "      <td>-6.377978</td>\n",
       "      <td>2022-07-31 23:59:47</td>\n",
       "    </tr>\n",
       "    <tr>\n",
       "      <th>2790610</th>\n",
       "      <td>1659311999</td>\n",
       "      <td>869170034050501</td>\n",
       "      <td>1.50</td>\n",
       "      <td>1.50</td>\n",
       "      <td>53.338073</td>\n",
       "      <td>-6.377978</td>\n",
       "      <td>2022-07-31 23:59:59</td>\n",
       "    </tr>\n",
       "  </tbody>\n",
       "</table>\n",
       "</div>"
      ],
      "text/plain": [
       "          timestamp        sensor ID  pm2.5(ug/m3)  pm10(ug/m3)   latitude  \\\n",
       "2790606  1659311934  869170034050501          0.58         0.58  53.338073   \n",
       "2790607  1659311946  869170034050501          0.58         0.58  53.338073   \n",
       "2790608  1659311957  869170034050501          0.50         0.75  53.338073   \n",
       "2790609  1659311987  869170034050501          2.33         2.33  53.338073   \n",
       "2790610  1659311999  869170034050501          1.50         1.50  53.338073   \n",
       "\n",
       "         longitude           date_time  \n",
       "2790606  -6.377980 2022-07-31 23:58:54  \n",
       "2790607  -6.377980 2022-07-31 23:59:06  \n",
       "2790608  -6.377980 2022-07-31 23:59:17  \n",
       "2790609  -6.377978 2022-07-31 23:59:47  \n",
       "2790610  -6.377978 2022-07-31 23:59:59  "
      ]
     },
     "execution_count": 24,
     "metadata": {},
     "output_type": "execute_result"
    }
   ],
   "source": [
    "mdata_df.tail()"
   ]
  },
  {
   "cell_type": "code",
   "execution_count": 22,
   "id": "eb60ea47",
   "metadata": {},
   "outputs": [],
   "source": [
    "max_date_time = mdata_df['date_time'].max()"
   ]
  },
  {
   "cell_type": "code",
   "execution_count": 23,
   "id": "163a5d10",
   "metadata": {},
   "outputs": [
    {
     "data": {
      "text/plain": [
       "Timestamp('2022-07-31 23:59:59')"
      ]
     },
     "execution_count": 23,
     "metadata": {},
     "output_type": "execute_result"
    }
   ],
   "source": [
    "max_date_time"
   ]
  },
  {
   "cell_type": "code",
   "execution_count": 24,
   "id": "6ad14ec4",
   "metadata": {},
   "outputs": [],
   "source": [
    "min_date_time = mdata_df['date_time'].min()"
   ]
  },
  {
   "cell_type": "code",
   "execution_count": 25,
   "id": "d8952f86",
   "metadata": {},
   "outputs": [
    {
     "data": {
      "text/plain": [
       "Timestamp('2021-10-01 00:00:03')"
      ]
     },
     "execution_count": 25,
     "metadata": {},
     "output_type": "execute_result"
    }
   ],
   "source": [
    "min_date_time"
   ]
  },
  {
   "cell_type": "code",
   "execution_count": 30,
   "id": "04e35658",
   "metadata": {},
   "outputs": [],
   "source": [
    "max_date_time = fdata_df['date_time'].max()"
   ]
  },
  {
   "cell_type": "code",
   "execution_count": 31,
   "id": "2e39198b",
   "metadata": {},
   "outputs": [
    {
     "data": {
      "text/plain": [
       "Timestamp('2022-07-31 23:59:48')"
      ]
     },
     "execution_count": 31,
     "metadata": {},
     "output_type": "execute_result"
    }
   ],
   "source": [
    "max_date_time"
   ]
  },
  {
   "cell_type": "code",
   "execution_count": 32,
   "id": "c421b7d3",
   "metadata": {},
   "outputs": [],
   "source": [
    "min_date_time = fdata_df['date_time'].min()"
   ]
  },
  {
   "cell_type": "code",
   "execution_count": 33,
   "id": "de2cc216",
   "metadata": {},
   "outputs": [
    {
     "data": {
      "text/plain": [
       "Timestamp('2021-10-01 00:00:41')"
      ]
     },
     "execution_count": 33,
     "metadata": {},
     "output_type": "execute_result"
    }
   ],
   "source": [
    "min_date_time"
   ]
  },
  {
   "cell_type": "code",
   "execution_count": 14,
   "id": "be3a76d8",
   "metadata": {},
   "outputs": [],
   "source": [
    "count_mdata_df=mdata_df.count()"
   ]
  },
  {
   "cell_type": "code",
   "execution_count": 16,
   "id": "75b9c5fa",
   "metadata": {},
   "outputs": [
    {
     "data": {
      "text/plain": [
       "timestamp       8029809\n",
       "sensor ID       8029809\n",
       "pm2.5(ug/m3)    8029809\n",
       "pm10(ug/m3)     8029809\n",
       "latitude        8029809\n",
       "longitude       8029809\n",
       "dtype: int64"
      ]
     },
     "execution_count": 16,
     "metadata": {},
     "output_type": "execute_result"
    }
   ],
   "source": [
    "count_mdata_df"
   ]
  },
  {
   "cell_type": "code",
   "execution_count": 37,
   "id": "ea561d70",
   "metadata": {},
   "outputs": [],
   "source": [
    "mdata_df['day_name'] = mdata_df['date_time'].dt.day_name()\n",
    "mdata_df['year'] = mdata_df['date_time'].dt.year\n",
    "mdata_df['month'] = mdata_df['date_time'].dt.month\n",
    "mdata_df['hour'] = mdata_df['date_time'].dt.hour\n",
    "mdata_df['day'] = mdata_df['date_time'].dt.day"
   ]
  },
  {
   "cell_type": "code",
   "execution_count": 38,
   "id": "a2838fbe",
   "metadata": {},
   "outputs": [
    {
     "data": {
      "text/plain": [
       "timestamp                1659229198\n",
       "sensor ID           869170034090531\n",
       "pm2.5(ug/m3)                  99.75\n",
       "pm10(ug/m3)                  160.09\n",
       "latitude                  54.222328\n",
       "longitude                       0.0\n",
       "date_time       2022-07-31 00:59:58\n",
       "day_name                  Wednesday\n",
       "year                           2022\n",
       "month                            12\n",
       "hour                              0\n",
       "day                              31\n",
       "dtype: object"
      ]
     },
     "execution_count": 38,
     "metadata": {},
     "output_type": "execute_result"
    }
   ],
   "source": [
    "mdata_df[mdata_df['hour'] == 00].max()"
   ]
  },
  {
   "cell_type": "code",
   "execution_count": 27,
   "id": "a363533f",
   "metadata": {},
   "outputs": [
    {
     "data": {
      "text/html": [
       "<div>\n",
       "<style scoped>\n",
       "    .dataframe tbody tr th:only-of-type {\n",
       "        vertical-align: middle;\n",
       "    }\n",
       "\n",
       "    .dataframe tbody tr th {\n",
       "        vertical-align: top;\n",
       "    }\n",
       "\n",
       "    .dataframe thead th {\n",
       "        text-align: right;\n",
       "    }\n",
       "</style>\n",
       "<table border=\"1\" class=\"dataframe\">\n",
       "  <thead>\n",
       "    <tr style=\"text-align: right;\">\n",
       "      <th></th>\n",
       "      <th>timestamp</th>\n",
       "      <th>sensor ID</th>\n",
       "      <th>pm2.5(ug/m3)</th>\n",
       "      <th>pm10(ug/m3)</th>\n",
       "      <th>latitude</th>\n",
       "      <th>longitude</th>\n",
       "      <th>date_time</th>\n",
       "      <th>day_name</th>\n",
       "      <th>year</th>\n",
       "      <th>month</th>\n",
       "      <th>hour</th>\n",
       "      <th>day</th>\n",
       "    </tr>\n",
       "  </thead>\n",
       "  <tbody>\n",
       "    <tr>\n",
       "      <th>0</th>\n",
       "      <td>1633046403</td>\n",
       "      <td>869170034050501</td>\n",
       "      <td>1.33</td>\n",
       "      <td>1.33</td>\n",
       "      <td>53.320283</td>\n",
       "      <td>-6.363592</td>\n",
       "      <td>2021-10-01 00:00:03</td>\n",
       "      <td>Friday</td>\n",
       "      <td>2021</td>\n",
       "      <td>10</td>\n",
       "      <td>0</td>\n",
       "      <td>1</td>\n",
       "    </tr>\n",
       "    <tr>\n",
       "      <th>1</th>\n",
       "      <td>1633046405</td>\n",
       "      <td>869170034040783</td>\n",
       "      <td>2.46</td>\n",
       "      <td>3.69</td>\n",
       "      <td>53.388120</td>\n",
       "      <td>-6.171005</td>\n",
       "      <td>2021-10-01 00:00:05</td>\n",
       "      <td>Friday</td>\n",
       "      <td>2021</td>\n",
       "      <td>10</td>\n",
       "      <td>0</td>\n",
       "      <td>1</td>\n",
       "    </tr>\n",
       "    <tr>\n",
       "      <th>2</th>\n",
       "      <td>1633046407</td>\n",
       "      <td>869170034084252</td>\n",
       "      <td>1.42</td>\n",
       "      <td>1.42</td>\n",
       "      <td>53.320965</td>\n",
       "      <td>-6.361845</td>\n",
       "      <td>2021-10-01 00:00:07</td>\n",
       "      <td>Friday</td>\n",
       "      <td>2021</td>\n",
       "      <td>10</td>\n",
       "      <td>0</td>\n",
       "      <td>1</td>\n",
       "    </tr>\n",
       "    <tr>\n",
       "      <th>3</th>\n",
       "      <td>1633046417</td>\n",
       "      <td>869170034040783</td>\n",
       "      <td>2.69</td>\n",
       "      <td>6.15</td>\n",
       "      <td>53.388120</td>\n",
       "      <td>-6.171005</td>\n",
       "      <td>2021-10-01 00:00:17</td>\n",
       "      <td>Friday</td>\n",
       "      <td>2021</td>\n",
       "      <td>10</td>\n",
       "      <td>0</td>\n",
       "      <td>1</td>\n",
       "    </tr>\n",
       "    <tr>\n",
       "      <th>4</th>\n",
       "      <td>1633046418</td>\n",
       "      <td>869170034084252</td>\n",
       "      <td>1.75</td>\n",
       "      <td>1.75</td>\n",
       "      <td>53.320965</td>\n",
       "      <td>-6.361845</td>\n",
       "      <td>2021-10-01 00:00:18</td>\n",
       "      <td>Friday</td>\n",
       "      <td>2021</td>\n",
       "      <td>10</td>\n",
       "      <td>0</td>\n",
       "      <td>1</td>\n",
       "    </tr>\n",
       "  </tbody>\n",
       "</table>\n",
       "</div>"
      ],
      "text/plain": [
       "    timestamp        sensor ID  pm2.5(ug/m3)  pm10(ug/m3)   latitude  \\\n",
       "0  1633046403  869170034050501          1.33         1.33  53.320283   \n",
       "1  1633046405  869170034040783          2.46         3.69  53.388120   \n",
       "2  1633046407  869170034084252          1.42         1.42  53.320965   \n",
       "3  1633046417  869170034040783          2.69         6.15  53.388120   \n",
       "4  1633046418  869170034084252          1.75         1.75  53.320965   \n",
       "\n",
       "   longitude           date_time day_name  year  month  hour  day  \n",
       "0  -6.363592 2021-10-01 00:00:03   Friday  2021     10     0    1  \n",
       "1  -6.171005 2021-10-01 00:00:05   Friday  2021     10     0    1  \n",
       "2  -6.361845 2021-10-01 00:00:07   Friday  2021     10     0    1  \n",
       "3  -6.171005 2021-10-01 00:00:17   Friday  2021     10     0    1  \n",
       "4  -6.361845 2021-10-01 00:00:18   Friday  2021     10     0    1  "
      ]
     },
     "execution_count": 27,
     "metadata": {},
     "output_type": "execute_result"
    }
   ],
   "source": [
    "mdata_df.head()"
   ]
  },
  {
   "cell_type": "code",
   "execution_count": 19,
   "id": "aeb06452",
   "metadata": {},
   "outputs": [],
   "source": [
    "fdata_df['day_name'] = fdata_df['date_time'].dt.day_name()\n",
    "fdata_df['year'] = fdata_df['date_time'].dt.year\n",
    "fdata_df['month'] = fdata_df['date_time'].dt.month\n",
    "fdata_df['hour'] = fdata_df['date_time'].dt.hour\n",
    "fdata_df['day'] = fdata_df['date_time'].dt.day"
   ]
  },
  {
   "cell_type": "code",
   "execution_count": 20,
   "id": "728738a3",
   "metadata": {},
   "outputs": [
    {
     "data": {
      "text/plain": [
       "timestamp                1659229185\n",
       "sensor ID           869170034086034\n",
       "pm2.5(ug/m3)                 149.15\n",
       "pm10(ug/m3)                  170.24\n",
       "date_time       2022-07-31 00:59:45\n",
       "day_name                  Wednesday\n",
       "year                           2022\n",
       "month                            12\n",
       "hour                              0\n",
       "day                              31\n",
       "dtype: object"
      ]
     },
     "execution_count": 20,
     "metadata": {},
     "output_type": "execute_result"
    }
   ],
   "source": [
    "fdata_df[fdata_df['hour'] == 00].max()"
   ]
  },
  {
   "cell_type": "code",
   "execution_count": 15,
   "id": "c3912520",
   "metadata": {},
   "outputs": [
    {
     "data": {
      "image/png": "[encoded data removed]",
      "text/plain": [
       "<Figure size 1000x500 with 1 Axes>"
      ]
     },
     "metadata": {},
     "output_type": "display_data"
    }
   ],
   "source": [
    "# Plotting PM10 over time\n",
    "plt.figure(figsize=(10, 5))\n",
    "plt.plot(mdata_df[['day_name','pm10(ug/m3)']].groupby([\"day_name\"]).mean().sort_values(by='pm10(ug/m3)', ascending = False) ,label='PM10', color='blue')\n",
    "\n",
    "# Plotting PM2.5 over time\n",
    "plt.plot(mdata_df[['day_name','pm2.5(ug/m3)']].groupby([\"day_name\"]).mean().sort_values(by='pm2.5(ug/m3)', ascending = False), label='PM2.5', color='red')\n",
    "\n",
    "# Adding labels and title\n",
    "plt.xlabel('Days')\n",
    "plt.ylabel('Concentration (ug/m3)')\n",
    "plt.title('Variation of PM2.5 and PM10 over Time')\n",
    "plt.legend()\n",
    "plt.xticks(rotation=45)\n",
    "plt.tight_layout()\n",
    "\n",
    "# Show the plot\n",
    "plt.show()"
   ]
  },
  {
   "cell_type": "code",
   "execution_count": 24,
   "id": "0188a70c",
   "metadata": {},
   "outputs": [
    {
     "data": {
      "image/png": "[encoded data removed]",
      "text/plain": [
       "<Figure size 1000x600 with 1 Axes>"
      ]
     },
     "metadata": {},
     "output_type": "display_data"
    }
   ],
   "source": [
    "average_concentrations = fdata_df.groupby('day_name')[['pm10(ug/m3)', 'pm2.5(ug/m3)']].mean().sort_values(by='pm10(ug/m3)', ascending=False)\n",
    "\n",
    "# Plotting bar chart\n",
    "plt.figure(figsize=(10, 6))\n",
    "sns.barplot(x=average_concentrations.index, y='pm10(ug/m3)', data=average_concentrations, color='blue', label='PM10')\n",
    "sns.barplot(x=average_concentrations.index, y='pm2.5(ug/m3)', data=average_concentrations, color='red', label='PM2.5')\n",
    "\n",
    "# Adding labels and title\n",
    "plt.xlabel('Days')\n",
    "plt.ylabel('Average Concentration (ug/m3)')\n",
    "plt.title('Average PM2.5 and PM10 Concentrations by Day')\n",
    "plt.legend()\n",
    "plt.xticks(rotation=45)\n",
    "plt.tight_layout()\n",
    "\n",
    "\n",
    "plt.show()\n"
   ]
  },
  {
   "cell_type": "code",
   "execution_count": 30,
   "id": "6869a9bb",
   "metadata": {},
   "outputs": [
    {
     "data": {
      "text/plain": [
       "day_name\n",
       "Tuesday      10.376079\n",
       "Monday        9.403769\n",
       "Sunday        8.850475\n",
       "Saturday      8.530203\n",
       "Friday        8.327358\n",
       "Wednesday     8.120755\n",
       "Thursday      7.555344\n",
       "Name: pm2.5(ug/m3), dtype: float64"
      ]
     },
     "execution_count": 30,
     "metadata": {},
     "output_type": "execute_result"
    }
   ],
   "source": [
    "mdata_df.groupby(['day_name'])['pm2.5(ug/m3)'].mean().sort_values(ascending=False)"
   ]
  },
  {
   "cell_type": "code",
   "execution_count": 31,
   "id": "0ae15b2e",
   "metadata": {},
   "outputs": [
    {
     "data": {
      "text/plain": [
       "day_name\n",
       "Tuesday      12.655606\n",
       "Monday       11.584527\n",
       "Sunday       10.950931\n",
       "Saturday     10.558320\n",
       "Friday       10.345326\n",
       "Wednesday    10.160416\n",
       "Thursday      9.342739\n",
       "Name: pm10(ug/m3), dtype: float64"
      ]
     },
     "execution_count": 31,
     "metadata": {},
     "output_type": "execute_result"
    }
   ],
   "source": [
    "mdata_df.groupby(['day_name'])['pm10(ug/m3)'].mean().sort_values(ascending=False)"
   ]
  },
  {
   "cell_type": "code",
   "execution_count": null,
   "id": "eee581d4",
   "metadata": {},
   "outputs": [],
   "source": []
  },
  {
   "cell_type": "code",
   "execution_count": null,
   "id": "d7510272",
   "metadata": {},
   "outputs": [],
   "source": []
  }
 ],
 "metadata": {
  "kernelspec": {
   "display_name": "Python 3 (ipykernel)",
   "language": "python",
   "name": "python3"
  },
  "language_info": {
   "codemirror_mode": {
    "name": "ipython",
    "version": 3
   },
   "file_extension": ".py",
   "mimetype": "text/x-python",
   "name": "python",
   "nbconvert_exporter": "python",
   "pygments_lexer": "ipython3",
   "version": "3.11.4"
  }
 },
 "nbformat": 4,
 "nbformat_minor": 5
}
